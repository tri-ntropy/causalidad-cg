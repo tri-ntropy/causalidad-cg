{
 "cells": [
  {
   "cell_type": "markdown",
   "id": "552858c2-e596-46f3-abda-13878a3eac97",
   "metadata": {},
   "source": [
    "## Importación de bibliotecas"
   ]
  },
  {
   "cell_type": "code",
   "execution_count": 1,
   "id": "e22201e4-8b24-46e7-85a5-efa26342ae6f",
   "metadata": {},
   "outputs": [],
   "source": [
    "import numpy as np"
   ]
  },
  {
   "cell_type": "markdown",
   "id": "313d271f-3ddd-45c9-ba27-bf4fe8781394",
   "metadata": {},
   "source": [
    "## Ruta de archivos"
   ]
  },
  {
   "cell_type": "code",
   "execution_count": 2,
   "id": "599e5468-6cb2-4263-b0ca-d67dd1cc2189",
   "metadata": {},
   "outputs": [],
   "source": [
    "ruta = \"datos/caracter_entropia/\""
   ]
  },
  {
   "cell_type": "markdown",
   "id": "eaa471a1-2cfb-4cdb-94b4-c9ef4669eef6",
   "metadata": {},
   "source": [
    "## \"Metadatos\""
   ]
  },
  {
   "cell_type": "code",
   "execution_count": 3,
   "id": "5eec7340-d4d9-4564-8f72-35801be5f979",
   "metadata": {},
   "outputs": [],
   "source": [
    "modelos = [\"cattaneo\", \"guyer\"]\n",
    "casos = [\"ab\", \"ba\", \"cd\", \"dc\", \"ce\", \"ec\", \"ab-ba\", \"ba-ab\", \"cd-dc\", \"dc-cd\", \"ce-ec\", \"ec-ce\"]"
   ]
  },
  {
   "cell_type": "markdown",
   "id": "ca9cd8f8-d887-48ae-8863-a7c0f8be2962",
   "metadata": {},
   "source": [
    "## Construcción del diccionario del error y promedio"
   ]
  },
  {
   "cell_type": "code",
   "execution_count": 4,
   "id": "68d2c5a2-f9fe-49be-a42f-54201f640bf2",
   "metadata": {},
   "outputs": [],
   "source": [
    "error = {}\n",
    "promedio = {}\n",
    "for m in modelos:\n",
    "    error[m] = {}\n",
    "    promedio[m] = {}\n",
    "    for c in casos:\n",
    "        error[m][c] = np.abs(np.loadtxt(ruta + \"error_\" + m + \"_\" + c + \".csv\")).max()\n",
    "        promedio[m][c] = np.abs(np.loadtxt(ruta + \"promedio_\" + m + \"_\" + c + \".csv\")).max()"
   ]
  },
  {
   "cell_type": "markdown",
   "id": "0a4a8abf-c0a6-4de4-93a1-c1e212bb8284",
   "metadata": {},
   "source": [
    "## Valores máximos del error"
   ]
  },
  {
   "cell_type": "code",
   "execution_count": 5,
   "id": "25cc83f1-09cf-4c09-8f0b-7d68635a3f05",
   "metadata": {},
   "outputs": [
    {
     "name": "stdout",
     "output_type": "stream",
     "text": [
      "cattaneo\n",
      "\tab:  0.00058258992\n",
      "\tba:  0.00059640971\n",
      "\tcd:  0.00042498672\n",
      "\tdc:  0.00192954196\n",
      "\tce:  0.00036342877\n",
      "\tec:  0.00036937333\n",
      "\tab-ba:  0.00089828634\n",
      "\tba-ab:  0.00089828634\n",
      "\tcd-dc:  0.00168580889\n",
      "\tdc-cd:  0.00168580889\n",
      "\tce-ec:  0.00038579836\n",
      "\tec-ce:  0.00038579836\n",
      "guyer\n",
      "\tab:  0.00093141196\n",
      "\tba:  0.00165593235\n",
      "\tcd:  0.00036055469\n",
      "\tdc:  0.00099042023\n",
      "\tce:  0.00030958502\n",
      "\tec:  0.00018963512\n",
      "\tab-ba:  0.00124585167\n",
      "\tba-ab:  0.00124585167\n",
      "\tcd-dc:  0.00075576543\n",
      "\tdc-cd:  0.00075576543\n",
      "\tce-ec:  0.00029664616\n",
      "\tec-ce:  0.00029664616\n",
      "\n",
      " Máximo error:  0.0019295419577970345\n"
     ]
    }
   ],
   "source": [
    "ve = np.empty(0)\n",
    "for m in modelos:\n",
    "    print(m)\n",
    "    for c in casos:\n",
    "        e = error[m][c]**0.5\n",
    "        print(\"\\t\" + c + \": \", np.around(e, decimals = 11))\n",
    "        ve = np.append(ve, e)\n",
    "\n",
    "print(\"\\n\", \"Máximo error: \", ve.max())"
   ]
  },
  {
   "cell_type": "markdown",
   "id": "af29cbde-b254-416e-91fa-35b015a7fa4a",
   "metadata": {},
   "source": [
    "## Porcentajes máximos del error respecto al valor promedio"
   ]
  },
  {
   "cell_type": "code",
   "execution_count": 6,
   "id": "b80cae1e-ff32-4544-8020-3aaab1fe4d46",
   "metadata": {},
   "outputs": [
    {
     "name": "stdout",
     "output_type": "stream",
     "text": [
      "cattaneo\n",
      "\tab:  0.5315566533805222\n",
      "\tba:  0.45679648355811886\n",
      "\tcd:  0.5626661447823529\n",
      "\tdc:  2.3849757376187344\n",
      "\tce:  5.371268563553305\n",
      "\tec:  3.142411135931875\n",
      "\tab-ba:  0.7854513131778621\n",
      "\tba-ab:  0.7854513131778621\n",
      "\tcd-dc:  2.352255199088952\n",
      "\tdc-cd:  2.352255199088952\n",
      "\tce-ec:  4.019628521015659\n",
      "\tec-ce:  4.019628521015659\n",
      "guyer\n",
      "\tab:  1.888115223404274\n",
      "\tba:  2.9242361113119\n",
      "\tcd:  0.8746882336452507\n",
      "\tdc:  2.1976610231129623\n",
      "\tce:  5.6141167908544585\n",
      "\tec:  2.2528591452881943\n",
      "\tab-ba:  2.578387854785211\n",
      "\tba-ab:  2.578387854785211\n",
      "\tcd-dc:  1.879070319964587\n",
      "\tdc-cd:  1.879070319964587\n",
      "\tce-ec:  3.715761864826843\n",
      "\tec-ce:  3.715761864826843\n",
      "\n",
      " Máximo % del error:  5.6141167908544585\n"
     ]
    }
   ],
   "source": [
    "vpe = np.empty(0)\n",
    "for m in modelos:\n",
    "    print(m)\n",
    "    for c in casos:\n",
    "        e = error[m][c] ** 0.5\n",
    "        p = promedio[m][c]\n",
    "        if p == 0:\n",
    "            pe = 0\n",
    "        else:\n",
    "            pe = (100 * e) / p\n",
    "        print(\"\\t\" + c + \": \", pe)\n",
    "        vpe = np.append(vpe, pe)\n",
    "\n",
    "print(\"\\n\", \"Máximo % del error: \", vpe.max())"
   ]
  }
 ],
 "metadata": {
  "kernelspec": {
   "display_name": "Python 3 (ipykernel)",
   "language": "python",
   "name": "python3"
  },
  "language_info": {
   "codemirror_mode": {
    "name": "ipython",
    "version": 3
   },
   "file_extension": ".py",
   "mimetype": "text/x-python",
   "name": "python",
   "nbconvert_exporter": "python",
   "pygments_lexer": "ipython3",
   "version": "3.9.12"
  }
 },
 "nbformat": 4,
 "nbformat_minor": 5
}
